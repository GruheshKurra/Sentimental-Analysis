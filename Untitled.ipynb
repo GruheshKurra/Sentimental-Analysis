{
 "cells": [
  {
   "cell_type": "code",
   "execution_count": 8,
   "id": "c863ef1a",
   "metadata": {},
   "outputs": [
    {
     "name": "stdout",
     "output_type": "stream",
     "text": [
      "                              Text  Sentiment_Score\n",
      "0            This is a good movie.             60.0\n",
      "1  I feel terrible about the news.             40.0\n",
      "2      The weather is great today.             60.0\n"
     ]
    },
    {
     "name": "stderr",
     "output_type": "stream",
     "text": [
      "[nltk_data] Downloading package punkt to\n",
      "[nltk_data]     C:\\Users\\akagr\\AppData\\Roaming\\nltk_data...\n",
      "[nltk_data]   Package punkt is already up-to-date!\n"
     ]
    }
   ],
   "source": [
    "import pandas as pd\n",
    "import nltk\n",
    "from nltk.tokenize import word_tokenize\n",
    "import string\n",
    "\n",
    "nltk.download('punkt')\n",
    "\n",
    "positive_words = ['good', 'great', 'excellent', 'awesome', 'happy']\n",
    "negative_words = ['bad', 'terrible', 'horrible', 'awful', 'sad']\n",
    "\n",
    "def calculate_sentiment_score(text):\n",
    "    tokens = word_tokenize(text.lower())\n",
    "    sentiment_score = 0\n",
    "    for token in tokens:\n",
    "        token = token.strip(string.punctuation)\n",
    "        if token in positive_words:\n",
    "            sentiment_score += 1\n",
    "        elif token in negative_words:\n",
    "            sentiment_score -= 1\n",
    "    return sentiment_score\n",
    "\n",
    "def map_to_0_to_100(score):\n",
    "    max_score = 5\n",
    "    min_score = -5\n",
    "    scaled_score = ((score - min_score) / (max_score - min_score)) * 100\n",
    "    return min(max(scaled_score, 0), 100)\n",
    "\n",
    "df = pd.read_csv(r'C:\\Users\\akagr\\OneDrive\\Desktop\\XtraLeap\\Sentimental Analysis\\dataset.csv')\n",
    "df['Sentiment_Score'] = df['Text'].apply(calculate_sentiment_score)\n",
    "df['Sentiment_Score'] = df['Sentiment_Score'].apply(map_to_0_to_100)\n",
    "\n",
    "print(df)\n"
   ]
  },
  {
   "cell_type": "code",
   "execution_count": null,
   "id": "01cd2250",
   "metadata": {},
   "outputs": [],
   "source": []
  }
 ],
 "metadata": {
  "kernelspec": {
   "display_name": "Python 3 (ipykernel)",
   "language": "python",
   "name": "python3"
  },
  "language_info": {
   "codemirror_mode": {
    "name": "ipython",
    "version": 3
   },
   "file_extension": ".py",
   "mimetype": "text/x-python",
   "name": "python",
   "nbconvert_exporter": "python",
   "pygments_lexer": "ipython3",
   "version": "3.10.9"
  }
 },
 "nbformat": 4,
 "nbformat_minor": 5
}
